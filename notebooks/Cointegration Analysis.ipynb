{
 "cells": [
  {
   "cell_type": "code",
   "execution_count": null,
   "metadata": {},
   "outputs": [],
   "source": [
    "import matplotlib.pyplot as plt\n",
    "import pickle\n",
    "\n",
    "import math\n",
    "\n",
    "from cointegration_analysis import estimate_long_run_short_run_relationships, engle_granger_two_step_cointegration_test"
   ]
  },
  {
   "cell_type": "code",
   "execution_count": null,
   "metadata": {},
   "outputs": [],
   "source": [
    "def read_data(timestamps_pckl, stock_values_pckl):\n",
    "    with open(timestamps_pckl, 'rb') as f:\n",
    "        timestamps = pickle.load(f)\n",
    "    with open(stock_values_pckl, 'rb') as f:\n",
    "        stock_values = pickle.load(f)\n",
    "    return timestamps, stock_values"
   ]
  },
  {
   "cell_type": "markdown",
   "metadata": {},
   "source": [
    "# Data Loading & Exploration"
   ]
  },
  {
   "cell_type": "code",
   "execution_count": null,
   "metadata": {},
   "outputs": [],
   "source": [
    "# Load data into timestmaps and stock_values.\n",
    "timestamps, stock_values = read_data('timestamps.pckl', 'stock_values.pckl')\n",
    "\n",
    "# Create a new dictionary called log_stock_values with a similar structure to \n",
    "# stock_values, but containing the log of these instead.\n",
    "log_stock_values = {name: [math.log(v) for v in stock_values[name]] for name in stock_values}"
   ]
  },
  {
   "cell_type": "code",
   "execution_count": null,
   "metadata": {},
   "outputs": [],
   "source": [
    "# Plot some of the stock values in this cell"
   ]
  },
  {
   "cell_type": "code",
   "execution_count": null,
   "metadata": {},
   "outputs": [],
   "source": [
    "# Plot some of the log-stock values in this cell"
   ]
  },
  {
   "cell_type": "markdown",
   "metadata": {},
   "source": [
    "# Analysis"
   ]
  },
  {
   "cell_type": "code",
   "execution_count": null,
   "metadata": {},
   "outputs": [],
   "source": [
    "# Use the built-in help() function to print the docstring for the cointegration_analysis-functions\n",
    "help(estimate_long_run_short_run_relationships)"
   ]
  },
  {
   "cell_type": "code",
   "execution_count": null,
   "metadata": {},
   "outputs": [],
   "source": [
    "help(engle_granger_two_step_cointegration_test)"
   ]
  },
  {
   "cell_type": "code",
   "execution_count": null,
   "metadata": {},
   "outputs": [],
   "source": []
  },
  {
   "cell_type": "code",
   "execution_count": null,
   "metadata": {},
   "outputs": [],
   "source": []
  }
 ],
 "metadata": {
  "kernelspec": {
   "display_name": "Python 3",
   "language": "python",
   "name": "python3"
  },
  "language_info": {
   "codemirror_mode": {
    "name": "ipython",
    "version": 3
   },
   "file_extension": ".py",
   "mimetype": "text/x-python",
   "name": "python",
   "nbconvert_exporter": "python",
   "pygments_lexer": "ipython3",
   "version": "3.6.8"
  }
 },
 "nbformat": 4,
 "nbformat_minor": 2
}
